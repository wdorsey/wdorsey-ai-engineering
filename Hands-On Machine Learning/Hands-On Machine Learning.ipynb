{
 "cells": [
  {
   "cell_type": "markdown",
   "id": "09b78a02-7d0f-4826-81c4-ca913e0881f0",
   "metadata": {},
   "source": [
    "# [Hands-On Machine Learning with Scikit-Learn, Keras & TensorFlow](https://www.oreilly.com/library/view/hands-on-machine-learning/9781492032632/)\n",
    "by Aurélien Géron"
   ]
  },
  {
   "cell_type": "markdown",
   "id": "6352d15f-db78-4f1b-bccb-adf9921f12e3",
   "metadata": {},
   "source": [
    "## Chapter 1 - The Machine Learning Landscape\n",
    "\n",
    "### Types of Machine Learning Systems\n",
    "\n",
    "#### Supervised Learning \n",
    "- The training set you feed the model includes the desired solutions, called `labels`.\n",
    "- `Classification` - A supervised learning task where a model is trained with many examples that include their `class`. It learns how to classify new instances.\n",
    "- `Regression` - A supervised learning task where the model's task is to predict a `target` numeric value given a set of `features`.\n",
    "- `Classification` and `regression` can be used together. For example, `logistic regression` is commonly used for `classification`.\n",
    "\n",
    "#### Unsupervised Learning\n",
    "- The model trains on `unlabeled` data.\n",
    "- `Clustering` - Algorithm to detect groups and find connections between the data. `Hierarchical Clustering` may also subdivide groups into smaller groups.\n",
    "- `Visualization` - Algorithms that outputs 2D or 3D representations of data.\n",
    "- `Dimensionality Reduction` - Simplify the data without losing too much information. One way is to merge correlated `features`, called `feature extraction`.\n",
    "- `Anomaly/Novelty Detection` - Trained mostly on very similar instances and then detects outliers that look different from thet training set.\n",
    "- `Association Rule Learning` - Discover relations between attributes.\n",
    "\n",
    "#### Semi-supervised Learning\n",
    "- Often has lots of `unlabeled` data, and few `labeled` instances. Often time-consuming and costly.\n",
    "- Can use combinations of `unsupervised` and `supervised` algorithms.\n",
    "\n",
    "#### Self-supervised Learning\n",
    "- Involves generating a fully `labeled` dataset from a fully `unlabeled` one.\n",
    "- Once the dataset is `labeled`, `supervised` algorithms can be used.\n",
    "\n",
    "#### Reinforcement Learning\n",
    "- The `agent` learning system can observe the environment, perform actions, and get rewards or penalties.\n",
    "- It must learn by itself the best strategy (called a `policy`) to get the most rewards over time.\n",
    "\n",
    "### Batch vs Online Learning\n",
    "\n",
    "#### Offline/Batch Learning\n",
    "- It must be trained using all available data. Incapable of learning incrementally.\n",
    "- Also called `offline learning`.\n",
    "- If it needs to be changed or learn on the latest dataset, the whole system has to be re-trained from scratch.\n",
    "\n",
    "#### Online/Incremental Learning\n",
    "- Trained incrementally by feeding instances sequentially or in small batches (`mini-batches`).\n",
    "- Can learn and update itself on the fly as new data arrives.\n",
    "- Can be used for `out-of-core` learning by loading chunks of huge datasets and training on each of them until it works through all the data. This typically happens offline, but is incremental.\n",
    "- `Learning rate` determines how fast it should adapt to changing data.\n",
    "\n",
    "### Instance-based vs Model-based Learning\n",
    "Another machine learning category is by how they `generalize`.\n",
    "\n",
    "#### Instance-based Learning\n",
    "\n",
    "- The model learns examples by heart, then generalizes to new cases by using a `measure of similarity` that it develops.\n",
    "\n",
    "#### Model-based Learning\n",
    "\n",
    "- Builds a model of examples and then uses that model to make `predictions`.\n",
    "- The `model selection` is critical in order to make accurate `predections`.\n",
    "- Can define either a `fitness function` to measure how good the model is or a `cost function` that measures how bad it is.\n",
    "- `Linear Regression` typically uses a `cost function` to find the linear model that best fits the data.\n",
    "\n",
    "### Main Challenges of Machine Learning\n",
    "- Insufficient Quantity of Training Data\n",
    "- Nonrepresentative Training Data - `sampling noise` from samples that are too small. But even big samples can be bad from `sampling bias`.\n",
    "- Poor Quality Data - Data that has errors, outliers, etc.\n",
    "- Irrelevant Features - `Feature engineering` involves selecting the most relevant features via `feature selection` and `feature extraction`. Or finding new features from new data.\n",
    "- Overfitting - Performs well on training data but does not generalize well. Model is too complex relative to the amount and noisiness of the training data.\n",
    "  - `Regularization` reduces the risk of overfitting by simplifying the model. Can utilize `hyperparameters` that are constant constraints on the learning algorithm.\n",
    "- Underfitting - Model is too simple to learn the underlying structure of the data.\n",
    "\n",
    "### Testing and Validating\n",
    "- Split data into two sets: the `training set` and the `testing set`.\n",
    "- The error rate on new cases is called the `generalization error` or `out-of-sample error`\n",
    "\n",
    "#### Hyperparameter Tuning and Model Selection\n",
    "- A common problem in testing is that same `testing set` is used repeatedly to measure the `generalization error` and tweak the model and `hyperparameters`. This only trains the model specifically for the `testing set` and when launched in production it can have a drastically higher `generalization error`.\n",
    "- `Holdout validation` is a common solution.\n",
    "  - Pull a set of data out of the `training set`, called the `validation set` (`dev set`).\n",
    "  - Train multiple models on the `training set` and select the model that performs best on the `dev set`.\n",
    "  - Then train the best model on the full `training set` (including the `dev set`).\n",
    "  - Evaluate the final model on the `testing set`.\n",
    "  - `Cross-validation` uses multiple small `dev sets`.\n",
    "\n",
    "#### Data Mismatch\n",
    "- Happens when it is hard to get a reliable `training set` representative of the data that will be in production.\n",
    "- The `training set` can have a small `train-dev set` broken off that is used to evaluate the model before the `dev set`.\n",
    "- If the `train-dev set` has problems, it is likely the model is overfitting. If the `dev set` has problems, it is a data mismatch."
   ]
  },
  {
   "cell_type": "code",
   "execution_count": 1,
   "id": "bff93404-de54-4c4c-9020-cd1242419a76",
   "metadata": {},
   "outputs": [],
   "source": [
    "# imports\n",
    "import matplotlib.pyplot as plt\n",
    "import numpy as np\n",
    "import pandas as pd\n",
    "import sklearn as sk"
   ]
  },
  {
   "cell_type": "code",
   "execution_count": 2,
   "id": "6867c749-a950-4ad0-9e39-9a1d7d878612",
   "metadata": {},
   "outputs": [],
   "source": [
    "# configuration\n",
    "pd.set_option(\"display.max.columns\", None)\n",
    "pd.set_option(\"display.precision\", 2)"
   ]
  },
  {
   "cell_type": "code",
   "execution_count": 3,
   "id": "713fa780-135c-42ac-895f-9a485c17fd17",
   "metadata": {},
   "outputs": [
    {
     "name": "stdout",
     "output_type": "stream",
     "text": [
      "linear regression prediction: [[6.30165767]]\n",
      "kneighbors prediction: [[6.26]]\n"
     ]
    },
    {
     "data": {
      "image/png": "[encoded data removed]",
      "text/plain": [
       "<Figure size 640x480 with 1 Axes>"
      ]
     },
     "metadata": {},
     "output_type": "display_data"
    }
   ],
   "source": [
    "ageron_github_url = \"https://github.com/ageron/data/raw/main/\"\n",
    "lifesat = pd.read_csv(ageron_github_url + \"lifesat/lifesat.csv\")\n",
    "\n",
    "# predict life satisfaction using GDP\n",
    "x = lifesat[[\"GDP per capita (USD)\"]].values\n",
    "y = lifesat[[\"Life satisfaction\"]].values\n",
    "gdp = [[37655.2]]\n",
    "\n",
    "lr_model = sk.linear_model.LinearRegression()\n",
    "lr_model.fit(x, y)\n",
    "print(\"linear regression prediction:\", lr_model.predict(gdp))\n",
    "\n",
    "kn_model = sk.neighbors.KNeighborsRegressor()\n",
    "kn_model.fit(x, y)\n",
    "print (\"kneighbors prediction:\", kn_model.predict(gdp))\n",
    "\n",
    "# visualize\n",
    "min_gdp = 23_500\n",
    "max_gdp = 62_500\n",
    "lifesat.plot(kind='scatter', grid=True, x=\"GDP per capita (USD)\", y=\"Life satisfaction\")\n",
    "t0, t1 = lr_model.intercept_[0], lr_model.coef_.ravel()[0]\n",
    "X = np.linspace(min_gdp, max_gdp, 1000)\n",
    "plt.plot(X, t0 + t1 * X, \"b\")\n",
    "plt.axis([min_gdp, max_gdp, 4, 9])\n",
    "plt.show()"
   ]
  },
  {
   "cell_type": "code",
   "execution_count": null,
   "id": "656ab387-4f9e-4079-b793-7369f4631227",
   "metadata": {},
   "outputs": [],
   "source": []
  }
 ],
 "metadata": {
  "kernelspec": {
   "display_name": "Python 3 (ipykernel)",
   "language": "python",
   "name": "python3"
  },
  "language_info": {
   "codemirror_mode": {
    "name": "ipython",
    "version": 3
   },
   "file_extension": ".py",
   "mimetype": "text/x-python",
   "name": "python",
   "nbconvert_exporter": "python",
   "pygments_lexer": "ipython3",
   "version": "3.13.6"
  }
 },
 "nbformat": 4,
 "nbformat_minor": 5
}
