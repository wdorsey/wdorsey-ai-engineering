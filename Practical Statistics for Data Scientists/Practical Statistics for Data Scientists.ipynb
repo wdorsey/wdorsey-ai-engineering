{
 "cells": [
  {
   "cell_type": "markdown",
   "id": "a594dbf9-2ae4-4531-8fa9-39ad27a79edb",
   "metadata": {},
   "source": [
    "# [Practical Statistics for Data Scientists](https://www.oreilly.com/library/view/practical-statistics-for/9781491952955/)\n",
    "by Peter Bruce, Andrew Bruce, & Peter Gedeck"
   ]
  },
  {
   "cell_type": "markdown",
   "id": "1d9577bf-e930-469e-9257-351d3a2fd0f0",
   "metadata": {},
   "source": [
    "## Chapter 1 - Exploratory Data Analysis\n",
    "\n",
    "- Inference - set of procedures for drawing conclusions about a large population from small samples.\n",
    "\n",
    "### Elements of Structured Data\n",
    "\n",
    "- Data Types\n",
    "  - Numeric - data expressed on a numeric scale.\n",
    "    - Continuous - any value between an interval (interval, float, decimal)\n",
    "    - Discrete - integer values (integer, count)\n",
    "  - Categorical - can only take specific values (enums, factors, nominal)\n",
    "    - Binary - 0 or 1, true or false\n",
    "    - Ordinal - explicit ordering (ordered factor)\n",
    "    - Categorical types are useful because they tell software how to process the data, allow for better storage and indexing, and enforce possible values.\n",
    "\n",
    "### Rectangular Data\n",
    "General term for a two-dimensional matrix with rows and columns. aka a spreadsheet or table.\n",
    "\n",
    "- Data frame - Standard term for the basic data structure used in statistical and machine learning models.\n",
    "  - Typically has one or more column that acts as an index.\n",
    "- Feature - A column within a table (attribute, input, predictor, variable).\n",
    "- Outcome - Features are somtimes used to predict the outcome of a project. (dependent variable, response, target, output)\n",
    "- Record - A row within a table (case, example, instance, observation, pattern, sample)\n",
    "\n",
    "### Nonrectangular Data Structures\n",
    "These are more specialized structures\n",
    "\n",
    "- Time series - forcasting data, IoT\n",
    "- Spatial data structures - spatial coordinates, maps\n",
    "- Graph (or network)"
   ]
  },
  {
   "cell_type": "markdown",
   "id": "4b0e5405-56e5-41be-9080-5050ae8f5de9",
   "metadata": {},
   "source": [
    "- initialize python environment and import dataset"
   ]
  },
  {
   "cell_type": "code",
   "execution_count": 1,
   "id": "66acf074-05d4-4d2a-bf5f-2cc209c6b8d6",
   "metadata": {},
   "outputs": [],
   "source": [
    "import numpy as np\n",
    "import pandas as pd\n",
    "import scipy.stats as sp"
   ]
  },
  {
   "cell_type": "code",
   "execution_count": 2,
   "id": "ffbf4fd7-9c80-43e2-8f6c-854a33d85f40",
   "metadata": {},
   "outputs": [],
   "source": [
    "pd.set_option(\"display.max.columns\", None)\n",
    "pd.set_option(\"display.precision\", 2)"
   ]
  },
  {
   "cell_type": "code",
   "execution_count": 3,
   "id": "86e02cd0-ed2e-4e31-b752-03969f41c898",
   "metadata": {},
   "outputs": [
    {
     "data": {
      "text/html": [
       "<div>\n",
       "<style scoped>\n",
       "    .dataframe tbody tr th:only-of-type {\n",
       "        vertical-align: middle;\n",
       "    }\n",
       "\n",
       "    .dataframe tbody tr th {\n",
       "        vertical-align: top;\n",
       "    }\n",
       "\n",
       "    .dataframe thead th {\n",
       "        text-align: right;\n",
       "    }\n",
       "</style>\n",
       "<table border=\"1\" class=\"dataframe\">\n",
       "  <thead>\n",
       "    <tr style=\"text-align: right;\">\n",
       "      <th></th>\n",
       "      <th>gameorder</th>\n",
       "      <th>game_id</th>\n",
       "      <th>lg_id</th>\n",
       "      <th>_iscopy</th>\n",
       "      <th>year_id</th>\n",
       "      <th>date_game</th>\n",
       "      <th>seasongame</th>\n",
       "      <th>is_playoffs</th>\n",
       "      <th>team_id</th>\n",
       "      <th>fran_id</th>\n",
       "      <th>pts</th>\n",
       "      <th>elo_i</th>\n",
       "      <th>elo_n</th>\n",
       "      <th>win_equiv</th>\n",
       "      <th>opp_id</th>\n",
       "      <th>opp_fran</th>\n",
       "      <th>opp_pts</th>\n",
       "      <th>opp_elo_i</th>\n",
       "      <th>opp_elo_n</th>\n",
       "      <th>game_location</th>\n",
       "      <th>game_result</th>\n",
       "      <th>forecast</th>\n",
       "      <th>notes</th>\n",
       "    </tr>\n",
       "  </thead>\n",
       "  <tbody>\n",
       "    <tr>\n",
       "      <th>0</th>\n",
       "      <td>1</td>\n",
       "      <td>194611010TRH</td>\n",
       "      <td>NBA</td>\n",
       "      <td>0</td>\n",
       "      <td>1947</td>\n",
       "      <td>1946-11-01</td>\n",
       "      <td>1</td>\n",
       "      <td>0</td>\n",
       "      <td>TRH</td>\n",
       "      <td>Huskies</td>\n",
       "      <td>66</td>\n",
       "      <td>1300.00</td>\n",
       "      <td>1293.28</td>\n",
       "      <td>40.29</td>\n",
       "      <td>NYK</td>\n",
       "      <td>Knicks</td>\n",
       "      <td>68</td>\n",
       "      <td>1300.00</td>\n",
       "      <td>1306.72</td>\n",
       "      <td>H</td>\n",
       "      <td>L</td>\n",
       "      <td>0.64</td>\n",
       "      <td>NaN</td>\n",
       "    </tr>\n",
       "    <tr>\n",
       "      <th>1</th>\n",
       "      <td>1</td>\n",
       "      <td>194611010TRH</td>\n",
       "      <td>NBA</td>\n",
       "      <td>1</td>\n",
       "      <td>1947</td>\n",
       "      <td>1946-11-01</td>\n",
       "      <td>1</td>\n",
       "      <td>0</td>\n",
       "      <td>NYK</td>\n",
       "      <td>Knicks</td>\n",
       "      <td>68</td>\n",
       "      <td>1300.00</td>\n",
       "      <td>1306.72</td>\n",
       "      <td>41.71</td>\n",
       "      <td>TRH</td>\n",
       "      <td>Huskies</td>\n",
       "      <td>66</td>\n",
       "      <td>1300.00</td>\n",
       "      <td>1293.28</td>\n",
       "      <td>A</td>\n",
       "      <td>W</td>\n",
       "      <td>0.36</td>\n",
       "      <td>NaN</td>\n",
       "    </tr>\n",
       "    <tr>\n",
       "      <th>2</th>\n",
       "      <td>2</td>\n",
       "      <td>194611020CHS</td>\n",
       "      <td>NBA</td>\n",
       "      <td>0</td>\n",
       "      <td>1947</td>\n",
       "      <td>1946-11-02</td>\n",
       "      <td>1</td>\n",
       "      <td>0</td>\n",
       "      <td>CHS</td>\n",
       "      <td>Stags</td>\n",
       "      <td>63</td>\n",
       "      <td>1300.00</td>\n",
       "      <td>1309.65</td>\n",
       "      <td>42.01</td>\n",
       "      <td>NYK</td>\n",
       "      <td>Knicks</td>\n",
       "      <td>47</td>\n",
       "      <td>1306.72</td>\n",
       "      <td>1297.07</td>\n",
       "      <td>H</td>\n",
       "      <td>W</td>\n",
       "      <td>0.63</td>\n",
       "      <td>NaN</td>\n",
       "    </tr>\n",
       "    <tr>\n",
       "      <th>3</th>\n",
       "      <td>2</td>\n",
       "      <td>194611020CHS</td>\n",
       "      <td>NBA</td>\n",
       "      <td>1</td>\n",
       "      <td>1947</td>\n",
       "      <td>1946-11-02</td>\n",
       "      <td>2</td>\n",
       "      <td>0</td>\n",
       "      <td>NYK</td>\n",
       "      <td>Knicks</td>\n",
       "      <td>47</td>\n",
       "      <td>1306.72</td>\n",
       "      <td>1297.07</td>\n",
       "      <td>40.69</td>\n",
       "      <td>CHS</td>\n",
       "      <td>Stags</td>\n",
       "      <td>63</td>\n",
       "      <td>1300.00</td>\n",
       "      <td>1309.65</td>\n",
       "      <td>A</td>\n",
       "      <td>L</td>\n",
       "      <td>0.37</td>\n",
       "      <td>NaN</td>\n",
       "    </tr>\n",
       "    <tr>\n",
       "      <th>4</th>\n",
       "      <td>3</td>\n",
       "      <td>194611020DTF</td>\n",
       "      <td>NBA</td>\n",
       "      <td>0</td>\n",
       "      <td>1947</td>\n",
       "      <td>1946-11-02</td>\n",
       "      <td>1</td>\n",
       "      <td>0</td>\n",
       "      <td>DTF</td>\n",
       "      <td>Falcons</td>\n",
       "      <td>33</td>\n",
       "      <td>1300.00</td>\n",
       "      <td>1279.62</td>\n",
       "      <td>38.86</td>\n",
       "      <td>WSC</td>\n",
       "      <td>Capitols</td>\n",
       "      <td>50</td>\n",
       "      <td>1300.00</td>\n",
       "      <td>1320.38</td>\n",
       "      <td>H</td>\n",
       "      <td>L</td>\n",
       "      <td>0.64</td>\n",
       "      <td>NaN</td>\n",
       "    </tr>\n",
       "  </tbody>\n",
       "</table>\n",
       "</div>"
      ],
      "text/plain": [
       "   gameorder       game_id lg_id _iscopy  year_id  date_game seasongame  \\\n",
       "0          1  194611010TRH   NBA       0     1947 1946-11-01          1   \n",
       "1          1  194611010TRH   NBA       1     1947 1946-11-01          1   \n",
       "2          2  194611020CHS   NBA       0     1947 1946-11-02          1   \n",
       "3          2  194611020CHS   NBA       1     1947 1946-11-02          2   \n",
       "4          3  194611020DTF   NBA       0     1947 1946-11-02          1   \n",
       "\n",
       "  is_playoffs team_id  fran_id  pts    elo_i    elo_n  win_equiv opp_id  \\\n",
       "0           0     TRH  Huskies   66  1300.00  1293.28      40.29    NYK   \n",
       "1           0     NYK   Knicks   68  1300.00  1306.72      41.71    TRH   \n",
       "2           0     CHS    Stags   63  1300.00  1309.65      42.01    NYK   \n",
       "3           0     NYK   Knicks   47  1306.72  1297.07      40.69    CHS   \n",
       "4           0     DTF  Falcons   33  1300.00  1279.62      38.86    WSC   \n",
       "\n",
       "   opp_fran  opp_pts  opp_elo_i  opp_elo_n game_location game_result  \\\n",
       "0    Knicks       68    1300.00    1306.72             H           L   \n",
       "1   Huskies       66    1300.00    1293.28             A           W   \n",
       "2    Knicks       47    1306.72    1297.07             H           W   \n",
       "3     Stags       63    1300.00    1309.65             A           L   \n",
       "4  Capitols       50    1300.00    1320.38             H           L   \n",
       "\n",
       "   forecast notes  \n",
       "0      0.64   NaN  \n",
       "1      0.36   NaN  \n",
       "2      0.63   NaN  \n",
       "3      0.37   NaN  \n",
       "4      0.64   NaN  "
      ]
     },
     "execution_count": 3,
     "metadata": {},
     "output_type": "execute_result"
    }
   ],
   "source": [
    "df = pd.read_csv(\"data/nba_all_elo.csv\", parse_dates=[5],\n",
    "    dtype={\n",
    "        \"lg_id\": \"category\",\n",
    "        \"_iscopy\": \"category\",\n",
    "        \"seasongame\": \"category\",\n",
    "        \"is_playoffs\": \"category\",\n",
    "        \"team_id\": \"category\",\n",
    "        \"fran_id\": \"category\",\n",
    "        \"opp_id\": \"category\",\n",
    "        \"opp_fran\": \"category\",\n",
    "        \"game_location\": \"category\",\n",
    "        \"game_result\": \"category\"\n",
    "    }\n",
    ")\n",
    "df.head()"
   ]
  },
  {
   "cell_type": "markdown",
   "id": "f0d5a589-deb5-4622-9dce-514979f793e9",
   "metadata": {},
   "source": [
    "### Estimates of Location\n",
    "A \"typical value\" for each variable (column), an estimate of where most of the data is located.\n",
    "\n",
    "- Statisticians use the term *estimate* for a value calculated from a data set.\n",
    "- Data scientists and business analysts use the term *metric*. Which is more concrete and for a practical use.\n",
    "- Statisticians estimate, data scientists measure."
   ]
  },
  {
   "cell_type": "markdown",
   "id": "34393918-5bef-4c56-b639-633327b484d2",
   "metadata": {},
   "source": [
    "#### Mean (average)\n",
    "sum of all values divided by the number of values\n",
    "- Sensitive to the data (and extreme outliers).\n",
    "- `values.sum() / values.count()`\n",
    "- $\\bar{x} = \\frac{\\sum_{i=1}^n x_i}{n}$\n",
    "- $\\bar{x}$ is pronounced \"x-bar\""
   ]
  },
  {
   "cell_type": "code",
   "execution_count": 4,
   "id": "b72ccfac-d25d-4e40-9b19-fcd717548bc7",
   "metadata": {},
   "outputs": [
    {
     "name": "stdout",
     "output_type": "stream",
     "text": [
      "manual: 102.72998242475101\n",
      "mean(): 102.72998242475101\n"
     ]
    }
   ],
   "source": [
    "pts = df[\"pts\"]\n",
    "print(\"manual:\", pts.sum() / pts.count())\n",
    "print(\"mean():\", pts.mean())"
   ]
  },
  {
   "cell_type": "markdown",
   "id": "1d5e64b9-1311-4916-a25b-1e42d5ccdef6",
   "metadata": {},
   "source": [
    "#### Weighted Mean (weighted average)\n",
    "sum of all values times a weight divided by the sum of the weights\n",
    "- Some values are intrinsically more variable than others. These highly variable values should be given lower weights.\n",
    "  - e.g. A less accurate sensor should be given lower weights.\n",
    "- The data collected doesn't equally represent the different groups that are being measured.\n",
    "- `([value] * [weights]).sum() / [weights].sum()`\n",
    "- $\\bar{x}_w = \\frac{\\sum_{i=1}^n w_i x_i}{\\sum_{i=1}^n w_i}$"
   ]
  },
  {
   "cell_type": "code",
   "execution_count": 5,
   "id": "0b5a35c0-7768-4300-ba81-0bc7d0dd218f",
   "metadata": {},
   "outputs": [
    {
     "name": "stdout",
     "output_type": "stream",
     "text": [
      "weighted mean pts: 102.2616841745508\n"
     ]
    }
   ],
   "source": [
    "# add a weight column that weights years less the farther back in time they go\n",
    "bins = [1900, 1950, 1960, 1970, 1980, 1990, 2000, 2010, 2025]\n",
    "weights = [0.1, 0.2, 0.4, 0.5, 0.7, 0.8, 0.9, 1.0]\n",
    "df[\"weight\"] = pd.cut(df[\"year_id\"], bins=bins, labels=weights, ordered=False).astype(float)\n",
    "\n",
    "# calc weighted mean from new weight column\n",
    "w_mean = (df[\"pts\"] * df[\"weight\"]).sum() / df[\"weight\"].sum()\n",
    "print(\"weighted mean pts:\" , w_mean)"
   ]
  },
  {
   "cell_type": "markdown",
   "id": "daa336b9-30da-4a87-a0e0-464fd2b21122",
   "metadata": {},
   "source": [
    "#### Trimmed Mean (truncated mean)\n",
    "mean after dropping a number of extreme values\n",
    "- A Mean value that isn't as sensitive to the data and extreme outliers.\n",
    "- ([values].sort_values()[trim : n - trim]).mean()\n",
    "- $\\bar{x}_{(r)} = \\frac{1}{n - 2r} \\sum_{i = r+1}^{n-r} x_{(i)}$"
   ]
  },
  {
   "cell_type": "code",
   "execution_count": 6,
   "id": "3aef0247-f1c7-4c45-885d-486ae92c471a",
   "metadata": {},
   "outputs": [
    {
     "name": "stdout",
     "output_type": "stream",
     "text": [
      "trimmed mean pts: 102.71580968214384\n",
      "trimmed with scipy: 102.71580968214384\n"
     ]
    }
   ],
   "source": [
    "pts_sorted = df[\"pts\"].sort_values()\n",
    "n = len(pts_sorted)\n",
    "trim = int(0.1 * n) # trim 10%\n",
    "trimmed = pts_sorted.iloc[trim:n-trim]\n",
    "print(\"trimmed mean pts:\", trimmed.mean())\n",
    "\n",
    "# using scipy\n",
    "print(\"trimmed with scipy:\", sp.trim_mean(df[\"pts\"], 0.1))"
   ]
  },
  {
   "cell_type": "markdown",
   "id": "e74b8e89-ac6a-4046-a5b4-36a81a5d7318",
   "metadata": {},
   "source": [
    "#### Median (50th percentile)\n",
    "The value such that one-half of the data lies above and below\n",
    "- Less sensitive to the data, less affected by outliers. This is referred to as a *robust* estimate."
   ]
  },
  {
   "cell_type": "code",
   "execution_count": 7,
   "id": "635fa48d-b371-468f-ab94-1c5f1ac31328",
   "metadata": {},
   "outputs": [
    {
     "name": "stdout",
     "output_type": "stream",
     "text": [
      "median: 103.0\n"
     ]
    }
   ],
   "source": [
    "print(\"median:\", df[\"pts\"].median())"
   ]
  },
  {
   "cell_type": "markdown",
   "id": "e9042de6-3670-4c8f-a8d0-17762ce42722",
   "metadata": {},
   "source": [
    "#### Weighted Median\n",
    "The value such that one-half of the sum of the weights lies below and above the sorted data"
   ]
  },
  {
   "cell_type": "code",
   "execution_count": 8,
   "id": "0ca5f015-f13b-483a-9a51-471eaefd5297",
   "metadata": {},
   "outputs": [
    {
     "name": "stdout",
     "output_type": "stream",
     "text": [
      "weighted pts median: 107\n"
     ]
    }
   ],
   "source": [
    "weights_cs = np.cumsum(df[\"weight\"]) # cumulative sum\n",
    "cutoff = 0.5 * df[\"weight\"].sum()\n",
    "median_value = pts_sorted.to_numpy()[weights_cs >= cutoff][0]\n",
    "print(\"weighted pts median:\", median_value)"
   ]
  },
  {
   "cell_type": "markdown",
   "id": "4bfc9a75-2387-45e2-b3fe-4c9e0cdaeb43",
   "metadata": {},
   "source": [
    "#### Percentile (quantile)\n",
    "The value such that P percent of the data lies below"
   ]
  }
 ],
 "metadata": {
  "kernelspec": {
   "display_name": "Python 3 (ipykernel)",
   "language": "python",
   "name": "python3"
  },
  "language_info": {
   "codemirror_mode": {
    "name": "ipython",
    "version": 3
   },
   "file_extension": ".py",
   "mimetype": "text/x-python",
   "name": "python",
   "nbconvert_exporter": "python",
   "pygments_lexer": "ipython3",
   "version": "3.13.6"
  }
 },
 "nbformat": 4,
 "nbformat_minor": 5
}
